{
 "cells": [
  {
   "cell_type": "code",
   "execution_count": 1,
   "id": "41a6cd8d",
   "metadata": {},
   "outputs": [],
   "source": [
    "# Function is a block of statements collected \n",
    "# under single name defined with keyword def"
   ]
  },
  {
   "cell_type": "code",
   "execution_count": 6,
   "id": "d196b31d",
   "metadata": {},
   "outputs": [],
   "source": [
    "def maxOf3(a,b,c):\n",
    "    if a>b:\n",
    "        if a>c:\n",
    "            print('a is greatest')\n",
    "    elif(b>c):\n",
    "        print('b is greatest')\n",
    "    else:\n",
    "        print('c is greatest')"
   ]
  },
  {
   "cell_type": "code",
   "execution_count": 9,
   "id": "08878a1c",
   "metadata": {},
   "outputs": [
    {
     "name": "stdout",
     "output_type": "stream",
     "text": [
      "a is greatest\n"
     ]
    }
   ],
   "source": [
    "maxOf3(3,1,2)"
   ]
  },
  {
   "cell_type": "code",
   "execution_count": 18,
   "id": "11c02f9e",
   "metadata": {},
   "outputs": [],
   "source": [
    "x = {firstN: firstN*3:  for firstN in range(1,11)}"
   ]
  },
  {
   "cell_type": "code",
   "execution_count": 19,
   "id": "f96bbc5a",
   "metadata": {},
   "outputs": [
    {
     "data": {
      "text/plain": [
       "{1: 3, 2: 6, 3: 9, 4: 12, 5: 15, 6: 18, 7: 21, 8: 24, 9: 27, 10: 30}"
      ]
     },
     "execution_count": 19,
     "metadata": {},
     "output_type": "execute_result"
    }
   ],
   "source": [
    "x"
   ]
  },
  {
   "cell_type": "code",
   "execution_count": 23,
   "id": "0fe6f328",
   "metadata": {},
   "outputs": [],
   "source": [
    "p = ['marathi','hindi','english','sanskrit']\n",
    "upperP = [l.upper() for l in p]\n",
    "reverse = [i[::-1] for i in p]"
   ]
  },
  {
   "cell_type": "code",
   "execution_count": 24,
   "id": "e317fda5",
   "metadata": {},
   "outputs": [
    {
     "data": {
      "text/plain": [
       "['MARATHI', 'HINDI', 'ENGLISH', 'SANSKRIT']"
      ]
     },
     "execution_count": 24,
     "metadata": {},
     "output_type": "execute_result"
    }
   ],
   "source": [
    "upperP"
   ]
  },
  {
   "cell_type": "code",
   "execution_count": 25,
   "id": "4cf283cb",
   "metadata": {},
   "outputs": [
    {
     "data": {
      "text/plain": [
       "['ihtaram', 'idnih', 'hsilgne', 'tirksnas']"
      ]
     },
     "execution_count": 25,
     "metadata": {},
     "output_type": "execute_result"
    }
   ],
   "source": [
    "reverse"
   ]
  },
  {
   "cell_type": "code",
   "execution_count": 26,
   "id": "81af67a8",
   "metadata": {},
   "outputs": [],
   "source": [
    "s = [i for i in range(11) if i%2==0]"
   ]
  },
  {
   "cell_type": "code",
   "execution_count": 27,
   "id": "4e2dc434",
   "metadata": {},
   "outputs": [
    {
     "data": {
      "text/plain": [
       "[0, 2, 4, 6, 8, 10]"
      ]
     },
     "execution_count": 27,
     "metadata": {},
     "output_type": "execute_result"
    }
   ],
   "source": [
    "s"
   ]
  },
  {
   "cell_type": "code",
   "execution_count": null,
   "id": "38fbbe70",
   "metadata": {},
   "outputs": [],
   "source": []
  }
 ],
 "metadata": {
  "kernelspec": {
   "display_name": "Python 3",
   "language": "python",
   "name": "python3"
  },
  "language_info": {
   "codemirror_mode": {
    "name": "ipython",
    "version": 3
   },
   "file_extension": ".py",
   "mimetype": "text/x-python",
   "name": "python",
   "nbconvert_exporter": "python",
   "pygments_lexer": "ipython3",
   "version": "3.8.8"
  }
 },
 "nbformat": 4,
 "nbformat_minor": 5
}
